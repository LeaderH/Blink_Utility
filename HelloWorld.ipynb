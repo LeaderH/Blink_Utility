{
 "cells": [
  {
   "cell_type": "code",
   "execution_count": null,
   "id": "159e0209",
   "metadata": {},
   "outputs": [],
   "source": [
    "import pandas as pd\n",
    "from sklearn.tree import DecisionTreeClassifier\n",
    "df = pd.read_csv('Data/music.csv')\n",
    "X= df.drop(columns=['genre'])\n",
    "y= df['genre']"
   ]
  },
  {
   "cell_type": "code",
   "execution_count": null,
   "id": "f4242601",
   "metadata": {
    "scrolled": true
   },
   "outputs": [],
   "source": [
    "df.describe()"
   ]
  },
  {
   "cell_type": "code",
   "execution_count": null,
   "id": "0888616a",
   "metadata": {},
   "outputs": [],
   "source": [
    "# normal train\n",
    "model = DecisionTreeClassifier()\n",
    "model.fit(X,y)\n",
    "predictions= model.predict([[21,1],[22,0]])\n",
    "predictions"
   ]
  },
  {
   "cell_type": "code",
   "execution_count": null,
   "id": "ac8a74a7",
   "metadata": {},
   "outputs": [],
   "source": [
    "# split test\n",
    "from sklearn.model_selection import train_test_split\n",
    "from sklearn.metrics import accuracy_score\n",
    "# store model\n",
    "import joblib\n",
    "X_train,X_test,y_train,y_test= train_test_split(X,y,test_size=0.2)\n",
    "model = DecisionTreeClassifier()\n",
    "model.fit(X_train,y_train)\n",
    "joblib.dump(model,'Output/music.joblib')\n",
    "# predictions= model.predict(X_test)\n",
    "# score=accuracy_score(y_test,predictions)"
   ]
  },
  {
   "cell_type": "code",
   "execution_count": null,
   "id": "701bed2c",
   "metadata": {},
   "outputs": [],
   "source": [
    "import joblib\n",
    "model=joblib.load('Output/music.joblib')\n",
    "predictions= model.predict([[31,1],[22,1]])\n",
    "predictions\n"
   ]
  },
  {
   "cell_type": "code",
   "execution_count": null,
   "id": "084db8d3",
   "metadata": {},
   "outputs": [],
   "source": [
    "from sklearn import tree\n",
    "tree.export_graphviz(model,out_file='music.dot',\n",
    "                   feature_names=['age','gender'],\n",
    "                   class_names=sorted(y.unique()),\n",
    "                   label='all',\n",
    "                   rounded=True,\n",
    "                   filled=True)"
   ]
  }
 ],
 "metadata": {
  "kernelspec": {
   "display_name": "Python 3 (ipykernel)",
   "language": "python",
   "name": "python3"
  },
  "language_info": {
   "codemirror_mode": {
    "name": "ipython",
    "version": 3
   },
   "file_extension": ".py",
   "mimetype": "text/x-python",
   "name": "python",
   "nbconvert_exporter": "python",
   "pygments_lexer": "ipython3",
   "version": "3.9.15"
  },
  "vscode": {
   "interpreter": {
    "hash": "21d634a84522069b179e6958acfc4cc33ad4b010437555d7a72f3805cc1695c7"
   }
  }
 },
 "nbformat": 4,
 "nbformat_minor": 5
}
