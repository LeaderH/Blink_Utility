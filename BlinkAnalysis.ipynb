{
 "cells": [
  {
   "cell_type": "markdown",
   "id": "8dbb75e4",
   "metadata": {},
   "source": [
    "### Prepare Data"
   ]
  },
  {
   "cell_type": "code",
   "execution_count": null,
   "id": "da9c0a2c",
   "metadata": {},
   "outputs": [],
   "source": [
    "import matplotlib.pyplot as plt\n",
    "import numpy as np\n",
    "import pandas as pd\n",
    "DB_FILE_NAME_ENTRY = \"_FileName\"\n",
    "DB_APK_ENTRY = \"_APK\"\n",
    "DB_VERSION_CODE_ENTRY = \"_VersionCode\"\n",
    "DB_FILE_SIZE_ENTRY = \"_FileSize\"\n",
    "# DB_DEX_SIZE_ENTRY = \"_DexSize\"\n",
    "DB_MD5_ENTRY = \"_MD5\"\n",
    "DB_TAG_ENTRY = \"_AnalysisTag\""
   ]
  },
  {
   "cell_type": "code",
   "execution_count": null,
   "id": "e74796f0",
   "metadata": {},
   "outputs": [],
   "source": [
    "# load Data\n",
    "benign = pd.read_csv('Data/benign.csv')\n",
    "risk = pd.read_csv('Data/riskware.csv')"
   ]
  },
  {
   "cell_type": "code",
   "execution_count": null,
   "id": "0efd7f85",
   "metadata": {},
   "outputs": [],
   "source": [
    "# build training Data\n",
    "Xb=benign.drop(columns=[DB_MD5_ENTRY,\n",
    "                     DB_TAG_ENTRY,DB_FILE_NAME_ENTRY,\n",
    "                     DB_APK_ENTRY,DB_VERSION_CODE_ENTRY,\n",
    "                     DB_FILE_SIZE_ENTRY])\n",
    "Xr=risk.drop(columns=[DB_MD5_ENTRY,\n",
    "                     DB_TAG_ENTRY,DB_FILE_NAME_ENTRY,\n",
    "                     DB_APK_ENTRY,DB_VERSION_CODE_ENTRY,\n",
    "                     DB_FILE_SIZE_ENTRY])\n",
    "yb = np.zeros((Xb.shape[0]))\n",
    "yr = np.ones((Xr.shape[0]))\n",
    "X = np.concatenate((Xb,Xr),axis=0)\n",
    "y = np.concatenate((yb,yr),axis=0)"
   ]
  },
  {
   "cell_type": "code",
   "execution_count": null,
   "id": "7ce33cc7",
   "metadata": {},
   "outputs": [],
   "source": [
    "print(f\"Shapes of X={X.shape} y={y.shape}, #Risk Cases={y.sum()}\")"
   ]
  },
  {
   "cell_type": "markdown",
   "id": "3feb1d10",
   "metadata": {},
   "source": [
    "### Hyperparameters tuning"
   ]
  },
  {
   "cell_type": "code",
   "execution_count": null,
   "id": "5b2251a9",
   "metadata": {},
   "outputs": [],
   "source": [
    "from sklearn.svm import SVC\n",
    "from sklearn.pipeline import Pipeline\n",
    "from sklearn.preprocessing import QuantileTransformer\n",
    "from sklearn.model_selection import GridSearchCV\n",
    "from sklearn.metrics import accuracy_score, make_scorer\n",
    "\n",
    "pipe = Pipeline([\n",
    "    (\"scale\",QuantileTransformer(n_quantiles=1000)),\n",
    "    (\"model\",SVC(kernel=\"rbf\",probability=True))\n",
    "])\n",
    "\n",
    "grid = GridSearchCV(estimator=pipe,\n",
    "            param_grid={'model__C':np.logspace(-2, 3, 6),\n",
    "                        'model__gamma':np.logspace(-4, 2, 7)},\n",
    "            scoring={'accuracy': make_scorer(accuracy_score),\n",
    "                     'AUC': 'roc_auc'},\n",
    "            refit='AUC',\n",
    "            cv=10)\n",
    "grid.fit(X, y)\n",
    "print(\n",
    "    \"The best parameters are %s with a score of %0.2f\"\n",
    "    % (grid.best_params_, grid.best_score_)\n",
    ")"
   ]
  },
  {
   "cell_type": "code",
   "execution_count": null,
   "id": "7adb29c7",
   "metadata": {},
   "outputs": [],
   "source": [
    "df = pd.DataFrame(grid.cv_results_)"
   ]
  },
  {
   "cell_type": "code",
   "execution_count": null,
   "id": "691c4636",
   "metadata": {},
   "outputs": [],
   "source": [
    "df.to_csv('Output/cv_results.csv')"
   ]
  },
  {
   "cell_type": "code",
   "execution_count": null,
   "id": "e7c737e3",
   "metadata": {},
   "outputs": [],
   "source": [
    "# save _cv_results\n",
    "import joblib\n",
    "joblib.dump(grid.cv_results_,'Output/cross_validation_results')"
   ]
  },
  {
   "cell_type": "markdown",
   "id": "e9de896b",
   "metadata": {},
   "source": [
    "### Train and Save model"
   ]
  },
  {
   "cell_type": "code",
   "execution_count": null,
   "id": "51c277de",
   "metadata": {},
   "outputs": [],
   "source": [
    "clf = grid.best_estimator_\n",
    "clf.fit(X,y)"
   ]
  },
  {
   "cell_type": "code",
   "execution_count": null,
   "id": "19566d23",
   "metadata": {},
   "outputs": [],
   "source": [
    "import joblib\n",
    "joblib.dump(clf,'Output/blink_maldroid2020.joblib')\n",
    "keys=Xb.keys().to_list()\n",
    "joblib.dump(keys,'Output/blink_maldroid2020_keys.joblib')"
   ]
  },
  {
   "cell_type": "markdown",
   "id": "0c6b92a6",
   "metadata": {},
   "source": [
    "### Plot Validation AUC"
   ]
  },
  {
   "cell_type": "code",
   "execution_count": null,
   "id": "fadf6a5a",
   "metadata": {
    "scrolled": true
   },
   "outputs": [],
   "source": [
    "import numpy as np\n",
    "from matplotlib.colors import Normalize\n",
    "\n",
    "C_range= np.logspace(-2, 3, 6)\n",
    "gamma_range = np.logspace(-4, 2, 7)\n",
    "scores = grid.cv_results_[\"mean_test_AUC\"].reshape(len(C_range), len(gamma_range))\n",
    "\n",
    "class MidpointNormalize(Normalize):\n",
    "    def __init__(self, vmin=None, vmax=None, midpoint=None, clip=False):\n",
    "        self.midpoint = midpoint\n",
    "        Normalize.__init__(self, vmin, vmax, clip)\n",
    "\n",
    "    def __call__(self, value, clip=None):\n",
    "        x, y = [self.vmin, self.midpoint, self.vmax], [0, 0.5, 1]\n",
    "        return np.ma.masked_array(np.interp(value, x, y))\n",
    "    \n",
    "plt.figure(figsize=(8, 6))\n",
    "plt.subplots_adjust(left=0.2, right=0.95, bottom=0.15, top=0.95)\n",
    "plt.imshow(\n",
    "    scores,\n",
    "    interpolation=\"nearest\",\n",
    "    cmap=plt.cm.hot,\n",
    "    norm=MidpointNormalize(vmin=0.2, midpoint=0.92),\n",
    ")\n",
    "plt.xlabel(\"gamma\")\n",
    "plt.ylabel(\"C\")\n",
    "plt.colorbar()\n",
    "plt.xticks(np.arange(len(gamma_range)), gamma_range, rotation=45)\n",
    "plt.yticks(np.arange(len(C_range)), C_range)\n",
    "plt.title(\"Validation AUC\")\n",
    "plt.show()"
   ]
  },
  {
   "cell_type": "markdown",
   "id": "6baacd73",
   "metadata": {},
   "source": [
    "#### Testing on all data sets"
   ]
  },
  {
   "cell_type": "code",
   "execution_count": null,
   "id": "4f173eb3",
   "metadata": {},
   "outputs": [],
   "source": [
    "clf=joblib.load('Output/blink_maldroid2020.joblib')"
   ]
  },
  {
   "cell_type": "code",
   "execution_count": null,
   "id": "b3a42477",
   "metadata": {},
   "outputs": [],
   "source": [
    "from sklearn.metrics import classification_report, confusion_matrix\n",
    "from sklearn.metrics import roc_auc_score\n",
    "# roc_auc_score(y, clf.predict_proba(X)[:, 1]) #[chance 0, chance 1]\n",
    "from sklearn import metrics\n",
    "score = roc_auc_score(y, clf.predict_proba(X)[:, 1])\n",
    "# curve = metrics.roc_curve(y, clf.predict_proba(X)[:, 1])\n",
    "# df = pd.DataFrame(np.column_stack(curve),columns=['fpr','tpr','threshold'])\n",
    "# df.to_csv('Output/roc_curve.csv')\n",
    "fpr, tpr, _ = metrics.roc_curve(y, clf.predict_proba(X)[:, 1])\n",
    "\n",
    "#create ROC curve\n",
    "plt.plot(fpr,tpr)\n",
    "plt.legend([f'AUC {score}'],loc =\"lower right\") \n",
    "plt.ylabel('True Positive Rate')\n",
    "plt.xlabel('False Positive Rate')\n",
    "plt.show()\n",
    "\n",
    "# discrete\n",
    "# y_pred = np.argmax(clf.predict_proba(X), axis=1)\n",
    "# confusion_matrix(y, y_pred)\n",
    "# roc_auc_score(y, clf.predict_proba(X)[:, 1]) #[chance 0, chance 1]\n",
    "# y_pred = np.argmax(clf2.predict_proba(X), axis=1)\n",
    "# confusion_matrix(y, y_pred)"
   ]
  },
  {
   "cell_type": "code",
   "execution_count": null,
   "id": "00c42bc0",
   "metadata": {},
   "outputs": [],
   "source": [
    "import matplotlib.pyplot as plt\n",
    "import numpy as np\n",
    "import pandas as pd\n",
    "import joblib\n",
    "DB_FILE_NAME_ENTRY = \"_FileName\"\n",
    "DB_APK_ENTRY = \"_APK\"\n",
    "DB_VERSION_CODE_ENTRY = \"_VersionCode\"\n",
    "DB_FILE_SIZE_ENTRY = \"_FileSize\"\n",
    "# DB_DEX_SIZE_ENTRY = \"_DexSize\"\n",
    "DB_MD5_ENTRY = \"_MD5\"\n",
    "DB_TAG_ENTRY = \"_AnalysisTag\"\n",
    "clf=joblib.load('Output/blink_maldroid2020.joblib')\n",
    "#clf.predict_proba(X)[:, 1]"
   ]
  },
  {
   "cell_type": "code",
   "execution_count": null,
   "id": "ae468be5",
   "metadata": {},
   "outputs": [],
   "source": [
    "# load Data\n",
    "benign = pd.read_csv('Data/benign.csv')\n",
    "risk = pd.read_csv('Data/riskware.csv')\n",
    "sms = pd.read_csv('Data/sms.csv')\n",
    "banking = pd.read_csv('Data/banking.csv')\n",
    "adware = pd.read_csv('Data/adware.csv')"
   ]
  },
  {
   "cell_type": "code",
   "execution_count": null,
   "id": "3f780c90",
   "metadata": {},
   "outputs": [],
   "source": [
    "Xb=benign.drop(columns=[DB_MD5_ENTRY,\n",
    "                     DB_TAG_ENTRY,DB_FILE_NAME_ENTRY,\n",
    "                     DB_APK_ENTRY,DB_VERSION_CODE_ENTRY,\n",
    "                     DB_FILE_SIZE_ENTRY]).to_numpy()\n",
    "Xr=risk.drop(columns=[DB_MD5_ENTRY,\n",
    "                     DB_TAG_ENTRY,DB_FILE_NAME_ENTRY,\n",
    "                     DB_APK_ENTRY,DB_VERSION_CODE_ENTRY,\n",
    "                     DB_FILE_SIZE_ENTRY]).to_numpy()\n",
    "Xs=sms.drop(columns=[DB_MD5_ENTRY,\n",
    "                     DB_TAG_ENTRY,DB_FILE_NAME_ENTRY,\n",
    "                     DB_APK_ENTRY,DB_VERSION_CODE_ENTRY,\n",
    "                     DB_FILE_SIZE_ENTRY]).to_numpy()\n",
    "Xbk=banking.drop(columns=[DB_MD5_ENTRY,\n",
    "                     DB_TAG_ENTRY,DB_FILE_NAME_ENTRY,\n",
    "                     DB_APK_ENTRY,DB_VERSION_CODE_ENTRY,\n",
    "                     DB_FILE_SIZE_ENTRY]).to_numpy()\n",
    "Xa=adware.drop(columns=[DB_MD5_ENTRY,\n",
    "                     DB_TAG_ENTRY,DB_FILE_NAME_ENTRY,\n",
    "                     DB_APK_ENTRY,DB_VERSION_CODE_ENTRY,\n",
    "                     DB_FILE_SIZE_ENTRY]).to_numpy()"
   ]
  },
  {
   "cell_type": "code",
   "execution_count": null,
   "id": "359211d6",
   "metadata": {},
   "outputs": [],
   "source": [
    "res_b=clf.predict_proba(Xb)[:, 1]\n",
    "res_r=clf.predict_proba(Xr)[:, 1]\n",
    "res_s=clf.predict_proba(Xs)[:, 1]\n",
    "res_bk=clf.predict_proba(Xbk)[:, 1]\n",
    "res_a=clf.predict_proba(Xa)[:, 1]"
   ]
  },
  {
   "cell_type": "code",
   "execution_count": null,
   "id": "51628a59",
   "metadata": {},
   "outputs": [],
   "source": [
    "np.average(res_r)"
   ]
  }
 ],
 "metadata": {
  "kernelspec": {
   "display_name": "Python 3 (ipykernel)",
   "language": "python",
   "name": "python3"
  },
  "language_info": {
   "codemirror_mode": {
    "name": "ipython",
    "version": 3
   },
   "file_extension": ".py",
   "mimetype": "text/x-python",
   "name": "python",
   "nbconvert_exporter": "python",
   "pygments_lexer": "ipython3",
   "version": "3.9.15"
  }
 },
 "nbformat": 4,
 "nbformat_minor": 5
}
